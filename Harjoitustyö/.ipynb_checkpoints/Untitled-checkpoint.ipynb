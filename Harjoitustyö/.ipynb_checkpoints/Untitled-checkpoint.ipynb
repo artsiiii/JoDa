{
 "cells": [
  {
   "cell_type": "code",
   "execution_count": null,
   "metadata": {},
   "outputs": [],
   "source": [
    "#!pip install requests"
   ]
  },
  {
   "cell_type": "code",
   "execution_count": null,
   "metadata": {},
   "outputs": [],
   "source": [
    "#import scrapy"
   ]
  },
  {
   "cell_type": "code",
   "execution_count": null,
   "metadata": {},
   "outputs": [],
   "source": [
    "#!scrapy genspider autotori_scraper auto.tori.fi"
   ]
  },
  {
   "cell_type": "code",
   "execution_count": null,
   "metadata": {},
   "outputs": [],
   "source": [
    "#!scrapy runspider autotori_scraper.py -o all_autotori_2.json"
   ]
  },
  {
   "cell_type": "code",
   "execution_count": null,
   "metadata": {},
   "outputs": [],
   "source": [
    "import pandas as pd\n",
    "import re\n",
    "import numpy as np"
   ]
  },
  {
   "cell_type": "code",
   "execution_count": null,
   "metadata": {},
   "outputs": [],
   "source": [
    "df = pd.read_json('all_autotori_1.json')"
   ]
  },
  {
   "cell_type": "code",
   "execution_count": null,
   "metadata": {},
   "outputs": [],
   "source": [
    "df"
   ]
  },
  {
   "cell_type": "code",
   "execution_count": null,
   "metadata": {},
   "outputs": [],
   "source": [
    "df = df.loc[df['data'] != '',:]\n",
    "df = df.loc[df['price'] != '-',:]\n",
    "df = df.loc[df['description'] != '',:]"
   ]
  },
  {
   "cell_type": "code",
   "execution_count": null,
   "metadata": {},
   "outputs": [],
   "source": [
    "df['price']= df['price'].apply(lambda x:x.replace(' €','').replace(' ',''))"
   ]
  },
  {
   "cell_type": "code",
   "execution_count": null,
   "metadata": {},
   "outputs": [],
   "source": [
    "df"
   ]
  },
  {
   "cell_type": "code",
   "execution_count": null,
   "metadata": {},
   "outputs": [],
   "source": [
    "brandWS = ['Alfa Romeo', 'Aston Martin', 'Land Rover']\n",
    "\n",
    "def addKilometers(x):\n",
    "    if 'km' in x:\n",
    "        kilometerRe = re.match('^(\\d+|\\s)+',x)\n",
    "        return kilometerRe.group(0).replace(\" \", \"\")\n",
    "    else:\n",
    "        return '-1'\n",
    "    \n",
    "def addYear(x):\n",
    "    result = re.search('(\\d{4})',x)\n",
    "    if result:\n",
    "        yearRe = re.search('(\\d{4})',x)\n",
    "        return yearRe.group(0)\n",
    "    else:\n",
    "        return '0' \n",
    "\n",
    "def addFuel(x):\n",
    "    if x.find('Bensiini') != -1:\n",
    "        return 'Bensiini'\n",
    "    elif x.find('Diesel') != -1:\n",
    "        return 'Diesel'\n",
    "    elif x.find('Hybridi') != -1:\n",
    "        return 'Hybridi'\n",
    "    elif x.find('Kaasu') != -1:\n",
    "        return 'Kaasu'\n",
    "    elif x.find('Sähkö') != -1:\n",
    "        return 'Sähkö'\n",
    "    elif x.find('E85 / Flexifuel') != -1:\n",
    "        return 'E85 / Flexifuel'\n",
    "    else:\n",
    "        return '-'\n",
    "\n",
    "def addGear(x):\n",
    "    if x.find('Manuaali') != -1:\n",
    "        return 'Manuaali'\n",
    "    elif x.find('Automaatti') != -1:\n",
    "        return 'Automaatti'\n",
    "    else:\n",
    "        return '-'\n",
    "\n",
    "def addBrand(x):\n",
    "    brandName = x.split()\n",
    "    for brand in brandWS:\n",
    "        if brand.find(brandName[0]) != -1:\n",
    "            return brandName[0] + ' ' + brandName[1]\n",
    "    return brandName[0]\n",
    "\n",
    "def addModel(x):\n",
    "    brandName = x.split()\n",
    "    length = len(brandName)\n",
    "    model = ''\n",
    "    i = 0\n",
    "    for brand in brandWS:\n",
    "        if brand.find(brandName[0]) != -1:\n",
    "            for i in range (2, length):\n",
    "                if brandName[i] == '/':\n",
    "                    break\n",
    "                if model == '':\n",
    "                    model = brandName[i]\n",
    "                else:\n",
    "                    model = model + ' ' + brandName[i]\n",
    "            return model\n",
    "    for i in range (1, length):\n",
    "        if brandName[i] == '/':\n",
    "            break\n",
    "        if model == '':\n",
    "            model = brandName[i]\n",
    "        else:\n",
    "            model = model + ' ' + brandName[i]\n",
    "    return model"
   ]
  },
  {
   "cell_type": "code",
   "execution_count": null,
   "metadata": {},
   "outputs": [],
   "source": [
    "df['kilometer']=df['data'].apply(addKilometers)\n",
    "df['year']=df['data'].apply(addYear)\n",
    "df['fuel']=df['data'].apply(addFuel)\n",
    "df['gear']=df['data'].apply(addGear)\n",
    "df['brand']= df['title'].apply(addBrand)\n",
    "df['model']=df['title'].apply(addModel)"
   ]
  },
  {
   "cell_type": "code",
   "execution_count": null,
   "metadata": {},
   "outputs": [],
   "source": [
    "df = df.loc[df['kilometer'] != '-1',:]"
   ]
  },
  {
   "cell_type": "code",
   "execution_count": null,
   "metadata": {},
   "outputs": [],
   "source": [
    "df.dtypes"
   ]
  },
  {
   "cell_type": "code",
   "execution_count": null,
   "metadata": {},
   "outputs": [],
   "source": [
    "cdf = pd.DataFrame(df['brand'])\n",
    "cdf = cdf.join(df['model'])\n",
    "cdf = cdf.join(df['price'].astype('int'))\n",
    "cdf = cdf.join(df['year'].astype('int'))\n",
    "cdf = cdf.join(df['kilometer'].astype('int'))\n",
    "cdf = cdf.join(df['fuel'])\n",
    "cdf = cdf.join(df['gear'])"
   ]
  },
  {
   "cell_type": "code",
   "execution_count": null,
   "metadata": {},
   "outputs": [],
   "source": [
    "cdf.dtypes"
   ]
  },
  {
   "cell_type": "code",
   "execution_count": null,
   "metadata": {},
   "outputs": [],
   "source": []
  },
  {
   "cell_type": "code",
   "execution_count": null,
   "metadata": {},
   "outputs": [],
   "source": []
  },
  {
   "cell_type": "code",
   "execution_count": null,
   "metadata": {},
   "outputs": [],
   "source": []
  },
  {
   "cell_type": "code",
   "execution_count": null,
   "metadata": {},
   "outputs": [],
   "source": []
  },
  {
   "cell_type": "code",
   "execution_count": null,
   "metadata": {},
   "outputs": [],
   "source": []
  },
  {
   "cell_type": "code",
   "execution_count": null,
   "metadata": {},
   "outputs": [],
   "source": []
  },
  {
   "cell_type": "code",
   "execution_count": null,
   "metadata": {},
   "outputs": [],
   "source": []
  },
  {
   "cell_type": "code",
   "execution_count": null,
   "metadata": {},
   "outputs": [],
   "source": []
  },
  {
   "cell_type": "code",
   "execution_count": null,
   "metadata": {},
   "outputs": [],
   "source": []
  },
  {
   "cell_type": "code",
   "execution_count": null,
   "metadata": {},
   "outputs": [],
   "source": []
  },
  {
   "cell_type": "code",
   "execution_count": null,
   "metadata": {},
   "outputs": [],
   "source": []
  },
  {
   "cell_type": "code",
   "execution_count": null,
   "metadata": {},
   "outputs": [],
   "source": []
  },
  {
   "cell_type": "code",
   "execution_count": null,
   "metadata": {},
   "outputs": [],
   "source": []
  },
  {
   "cell_type": "code",
   "execution_count": null,
   "metadata": {},
   "outputs": [],
   "source": []
  },
  {
   "cell_type": "code",
   "execution_count": null,
   "metadata": {},
   "outputs": [],
   "source": []
  }
 ],
 "metadata": {
  "kernelspec": {
   "display_name": "Python 3",
   "language": "python",
   "name": "python3"
  },
  "language_info": {
   "codemirror_mode": {
    "name": "ipython",
    "version": 3
   },
   "file_extension": ".py",
   "mimetype": "text/x-python",
   "name": "python",
   "nbconvert_exporter": "python",
   "pygments_lexer": "ipython3",
   "version": "3.7.6"
  }
 },
 "nbformat": 4,
 "nbformat_minor": 4
}
