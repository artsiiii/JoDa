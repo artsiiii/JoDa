{
 "cells": [
  {
   "cell_type": "markdown",
   "metadata": {},
   "source": [
    "# Oppimispäiväkirja - Johdatus datatieteisiin\n",
    "\n",
    "## Luento 1\n",
    "\n",
    "Osallistuin ensimmäiseen luentoon (9.3.2021).\n",
    "\n",
    "[1] https://www.guru99.com/r-vs-python.html#:~:text=R%20is%20mainly%20used%20for,of%20course%2C%20the%20ideal%20solution.&text=Python%20is%20a%20general%2Dpurpose%20language%20with%20a%20readable%20syntax.\n",
    "\n",
    "### Keskeiset asiat\n",
    "Datatieteet määriteltiin koostuvan neljästä eri kokonaisuudesta eli liiketoimintaosaamisesta, ohjelmointi- ja tietokantaosaamisesta, tilastollisesta analyysistä sekä datalähtöisestä viestinnästä ja visualisoinnista. \n",
    "\n",
    "Data Scientist eli suomeksi tietojen tutkija tai datatieteilijä on datatieteiden alueella toimivan henkilön työnimike. Data Scientistin työssä vaaditaan ymmärrystä liiketoimminnasta eli substanssi osaamista alasta. Ilman tätä substanssiosaamista on vaikea ymmärtää mitä data tarkoittaa käytännössä ja näin ollen on vaikea luoda hyötyä liiketoiminnallisesta näkökulmasta. Tulee myös tiedostaa, mikä data on saatavilla ja mikä tästä datasta soveltuu tavoite tarkoituksiin.\n",
    "\n",
    "Tietotekninen osaaminen eli käytännössä ohjelmointi ja tietokanta osaaminen ovat välttämättömyyksiä, sillä tiedot täytyy kyetä keräämään, säilömään ja analysoimaan. Tyypillisimpä työkaluja tietojen analysoinnissa ovat R ja Python. \n",
    "\n",
    "R-kieli on nimenomaan käytössä tilasto-ohjelmissa, mutta nykyään suosiota nostaa ohjelmointikielenä Python, sillä se tarjoa mahdollisuuden kerätä tietoa ohjelmistorajapintojen (API) kautta. R:n toiminta rajoittuu paikallisten tietojen kanssa toimimiseen, jolloin se ei sovellu realiaikasen datan käsittelyyn yhtä hyvin. Python tarjoaa siis paremman ratkaisun mahdolliseti liiketoiminnallisesta näkökulmasta, kun taas R on käytössä akateemisessa ja tuotekehitykseen sopivassa ympäristössä. [1].\n",
    "\n",
    "Jotta data kyetään tuomaan käytäntöön, tulee Data Scientistilla olla hyvä kommunikaatio taidot. Tämä vaatii sitä, että kun tietoa esitetään, tulee kyetä herätämään päättävien henkilöiden mielenkiinto sekä nostaa esimerkiksi visualisaation avulla huomionarvoiset seikat esille.\n",
    "\n",
    "Nykyään tuotetaan järkyttävä määrä dataa, esimerkiksi vuoteen 2025 mennessä on arvioitu tuotetun datan määrän olevan 163 Zetabittiä. Osa datasta voi olla käytännössä aivan turhaa, mutta osassa voi piillä esimerkiksi jotakin olennaista liiketoiminnan näkökulmasta katsottuna. Tämän datan läpikäyntiin voidaan käyttää koneoppimista, erityisesti neuroverkkoja. Tämän avulla voidaan luoda kartoittavaa ja kuvailevaa dataa tästä valtavasta määrästä ja tunnistaa tilastollisia korrelaatioita.\n",
    "\n",
    "### 5 oivallusta tai tärkeintä oppimaa asiaa\n",
    "Ehdottomasti tärkeimmäksi asiaksi luennoilta jäi mieleen se, että datatieteet eivät rakennu vain teknisen ja matemaattisen osaamisen varaan. Tästä on toki puhuttu useilla muillakin kursseilla, jolloin tämä ei sinänsä ollut uusi asia itselleni. Ensimmäinen luento ei sinänsä tarjonnut oivalluksia tai uusia asioita juurikaan, mutta tämä johtui varmasti siitä, että olin esimerkiksi omatoimisesti itse ja ystävieni kautta saavuttanut suhteellisen hyvän ymmärryksen alan luenteesta ja siihen liittyvistä merkittävistä käsitteistä.\n",
    "\n",
    "### 1-3 kehityskohdetta tai flippausvinkkiä luentoviikolle\n",
    "Jupyter notebook on varmasti monessa suhteessa kätevä tapa käydä viikon aihetta läpi python koodin pyörittämis mahdollisuuden ansiosta, mutta itse kerään tyypillisesti luennon aikana OneNoteen luentokalvot, jolloin omien muistiin panojen laatu kärsi selkeästi jatkuvasti muuttuvan materiaalin takia. Tämän vuoksi toivoisin jatkossa, että koodi olisi ajettu läpi valmiiksi, jolloin olisi helpompi ottaa kattavia näyttöleikkeitä ja edetä omien muistiinpanojen kanssa loogisesti. "
   ]
  },
  {
   "cell_type": "code",
   "execution_count": 1,
   "metadata": {
    "scrolled": true
   },
   "outputs": [
    {
     "data": {
      "text/plain": [
       "'!pip install pandas\\n!pip install matplotlib'"
      ]
     },
     "execution_count": 1,
     "metadata": {},
     "output_type": "execute_result"
    }
   ],
   "source": [
    "# Demo\n",
    "'''!pip install pandas\n",
    "!pip install matplotlib'''"
   ]
  },
  {
   "cell_type": "code",
   "execution_count": 2,
   "metadata": {},
   "outputs": [],
   "source": [
    "import pandas as pd\n",
    "import matplotlib.pyplot as plt\n",
    "from matplotlib import style\n",
    "style.use('ggplot')"
   ]
  },
  {
   "cell_type": "code",
   "execution_count": 3,
   "metadata": {},
   "outputs": [
    {
     "name": "stdout",
     "output_type": "stream",
     "text": [
      "List of attributes: ['Transaction_date', 'Product', 'Price', 'Payment_Type', 'Name', 'City', 'State', 'Country', 'Account_Created', 'Last_Login', 'Latitude', 'Longitude']\n"
     ]
    }
   ],
   "source": [
    "url = 'https://github.com/jodatut/2020/raw/master/koodiesimerkit/SalesJan2009.csv'\n",
    "orgin_df = pd.read_csv(url)\n",
    "df = orgin_df.copy()\n",
    "print('List of attributes:', df.columns.values.tolist())"
   ]
  },
  {
   "cell_type": "code",
   "execution_count": 4,
   "metadata": {},
   "outputs": [
    {
     "name": "stdout",
     "output_type": "stream",
     "text": [
      "Transaction_date     object\n",
      "Product              object\n",
      "Price                 int64\n",
      "Payment_Type         object\n",
      "Name                 object\n",
      "City                 object\n",
      "State                object\n",
      "Country              object\n",
      "Account_Created      object\n",
      "Last_Login           object\n",
      "Latitude            float64\n",
      "Longitude           float64\n",
      "dtype: object\n"
     ]
    }
   ],
   "source": [
    "print(df.dtypes)"
   ]
  },
  {
   "cell_type": "code",
   "execution_count": 5,
   "metadata": {},
   "outputs": [
    {
     "name": "stdout",
     "output_type": "stream",
     "text": [
      "Transaction_date    datetime64[ns]\n",
      "Product                     object\n",
      "Price                        int64\n",
      "Payment_Type                object\n",
      "Name                        object\n",
      "City                        object\n",
      "State                       object\n",
      "Country                     object\n",
      "Account_Created     datetime64[ns]\n",
      "Last_Login          datetime64[ns]\n",
      "Latitude                   float64\n",
      "Longitude                  float64\n",
      "dtype: object\n"
     ]
    }
   ],
   "source": [
    "df['Transaction_date'] = pd.to_datetime(df['Transaction_date'])\n",
    "df['Account_Created'] = pd.to_datetime(df['Account_Created'])\n",
    "df['Last_Login'] = pd.to_datetime(df['Last_Login'])\n",
    "#df['Price'] = df['Price'].str.replace(',','')\n",
    "#df['Price'] = pd.to_numeric(df['Price'])\n",
    "print(df.dtypes)"
   ]
  },
  {
   "cell_type": "code",
   "execution_count": 6,
   "metadata": {},
   "outputs": [],
   "source": [
    "caps = lambda x: x.upper()\n",
    "df['Country'] = df['Country'].apply(caps)"
   ]
  },
  {
   "cell_type": "code",
   "execution_count": 7,
   "metadata": {
    "scrolled": true
   },
   "outputs": [
    {
     "name": "stdout",
     "output_type": "stream",
     "text": [
      "     Transaction_date   Product  Price Payment_Type               Name  \\\n",
      "0 2009-01-02 06:17:00  Product1   1200   Mastercard           carolina   \n",
      "1 2009-01-02 04:53:00  Product1   1200         Visa             Betina   \n",
      "2 2009-01-02 13:08:00  Product1   1200   Mastercard  Federica e Andrea   \n",
      "3 2009-01-03 14:44:00  Product1   1200         Visa              Gouya   \n",
      "4 2009-01-04 12:56:00  Product2   3600         Visa            Gerd W    \n",
      "\n",
      "                           City     State         Country     Account_Created  \\\n",
      "0                      Basildon   England  UNITED KINGDOM 2009-01-02 06:00:00   \n",
      "1  Parkville                           MO   UNITED STATES 2009-01-02 04:42:00   \n",
      "2  Astoria                             OR   UNITED STATES 2009-01-01 16:21:00   \n",
      "3                        Echuca  Victoria       AUSTRALIA 2005-09-25 21:13:00   \n",
      "4  Cahaba Heights                      AL   UNITED STATES 2008-11-15 15:47:00   \n",
      "\n",
      "           Last_Login   Latitude   Longitude  \n",
      "0 2009-01-02 06:08:00  51.500000   -1.116667  \n",
      "1 2009-01-02 07:49:00  39.195000  -94.681940  \n",
      "2 2009-01-03 12:32:00  46.188060 -123.830000  \n",
      "3 2009-01-03 14:22:00 -36.133333  144.750000  \n",
      "4 2009-01-04 12:45:00  33.520560  -86.802500  \n"
     ]
    }
   ],
   "source": [
    "print(df.head())"
   ]
  },
  {
   "cell_type": "code",
   "execution_count": 8,
   "metadata": {},
   "outputs": [],
   "source": [
    "df['Login_week'] = \"\"\n",
    "\n",
    "def lastweek(x):\n",
    "    date = pd.Timestamp(2009,2,2)\n",
    "    date_diff = pd.Timedelta(date-x).days\n",
    "    if date_diff < 7:\n",
    "        return \"Last week\"\n",
    "    else:\n",
    "        return \"Not last week\"\n",
    "\n",
    "df['Login_week'] = df['Last_Login'].apply(lastweek)"
   ]
  },
  {
   "cell_type": "code",
   "execution_count": 9,
   "metadata": {},
   "outputs": [
    {
     "name": "stdout",
     "output_type": "stream",
     "text": [
      "       Transaction_date   Product  Price Payment_Type        Name  \\\n",
      "289 2009-01-26 03:43:00  Product1   1200   Mastercard       Wendy   \n",
      "290 2009-01-26 03:49:00  Product2   3600   Mastercard        Jane   \n",
      "291 2009-01-11 13:16:00  Product2   3600         Visa      shelby   \n",
      "292 2009-01-22 15:32:00  Product1   1200   Mastercard        Tara   \n",
      "293 2009-01-09 14:25:00  Product1   1200         Amex       James   \n",
      "..                  ...       ...    ...          ...         ...   \n",
      "993 2009-01-22 14:25:00  Product1   1200         Visa  Hans-Joerg   \n",
      "994 2009-01-28 05:36:00  Product2   3600         Visa  Christiane   \n",
      "995 2009-01-01 04:24:00  Product3   7500         Amex      Pamela   \n",
      "996 2009-01-08 11:55:00  Product1   1200       Diners       julie   \n",
      "997 2009-01-12 21:30:00  Product1   1200         Visa      Julia    \n",
      "\n",
      "                             City                       State         Country  \\\n",
      "289  Lake Mahopac                                          NY   UNITED STATES   \n",
      "290                          Biot  Provence-Alpes-Cote d'Azur          FRANCE   \n",
      "291  Plantation                                            FL   UNITED STATES   \n",
      "292                      Killiney                      Dublin         IRELAND   \n",
      "293                          Guer                    Brittany          FRANCE   \n",
      "..                            ...                         ...             ...   \n",
      "993                       Belfast            Northern Ireland  UNITED KINGDOM   \n",
      "994                   Black River                 Black River       MAURITIUS   \n",
      "995  Skaneateles                                           NY   UNITED STATES   \n",
      "996                     Haverhill                     England  UNITED KINGDOM   \n",
      "997  Madison                                               WI   UNITED STATES   \n",
      "\n",
      "        Account_Created          Last_Login   Latitude  Longitude Login_week  \n",
      "289 2009-01-26 03:10:00 2009-01-26 03:10:00  41.372220 -73.733890  Last week  \n",
      "290 2008-03-01 00:00:00 2009-01-26 03:18:00  43.633333   7.100000  Last week  \n",
      "291 2009-01-11 12:20:00 2009-01-26 03:42:00  26.121940 -80.143610  Last week  \n",
      "292 2007-02-27 11:35:00 2009-01-26 04:32:00  53.252222  -6.112500  Last week  \n",
      "293 2008-04-07 00:00:00 2009-01-26 05:32:00  47.900000  -2.116667  Last week  \n",
      "..                  ...                 ...        ...        ...        ...  \n",
      "993 2008-11-10 12:15:00 2009-03-01 03:37:00  54.583333  -5.933333  Last week  \n",
      "994 2009-01-09 08:10:00 2009-03-01 04:40:00 -20.360278  57.366111  Last week  \n",
      "995 2008-12-28 17:28:00 2009-03-01 07:21:00  42.946940 -76.429440  Last week  \n",
      "996 2006-11-29 13:31:00 2009-03-01 07:28:00  52.083333   0.433333  Last week  \n",
      "997 2008-11-17 22:24:00 2009-03-01 10:14:00  43.073060 -89.401110  Last week  \n",
      "\n",
      "[709 rows x 13 columns]\n"
     ]
    }
   ],
   "source": [
    "print(df[ df['Login_week'] == 'Last week' ])"
   ]
  },
  {
   "cell_type": "code",
   "execution_count": 10,
   "metadata": {},
   "outputs": [
    {
     "name": "stdout",
     "output_type": "stream",
     "text": [
      "Sum of Amex payments is 188900\n"
     ]
    }
   ],
   "source": [
    "amex = df.loc[:,['Price','Payment_Type']]\n",
    "amex = amex[amex['Payment_Type'] == 'Amex']\n",
    "result = [amex]\n",
    "result = pd.concat([amex], keys={'amex': amex})\n",
    "sum_amex = sum(amex['Price'])\n",
    "print(\"Sum of Amex payments is {}\".format(sum_amex))"
   ]
  },
  {
   "cell_type": "code",
   "execution_count": 11,
   "metadata": {},
   "outputs": [],
   "source": [
    "result.to_csv('result_dataframe.csv', encoding='utf8')"
   ]
  },
  {
   "cell_type": "code",
   "execution_count": 12,
   "metadata": {},
   "outputs": [
    {
     "name": "stdout",
     "output_type": "stream",
     "text": [
      "            Payment_Type\n",
      "Visa                 523\n",
      "Mastercard           278\n",
      "Amex                 110\n",
      "Diners                89\n"
     ]
    }
   ],
   "source": [
    "payment_values = df['Payment_Type'].value_counts().to_frame()\n",
    "print(payment_values)"
   ]
  },
  {
   "cell_type": "code",
   "execution_count": 13,
   "metadata": {},
   "outputs": [
    {
     "data": {
      "image/png": "[encoded data removed]",
      "text/plain": [
       "<Figure size 936x576 with 1 Axes>"
      ]
     },
     "metadata": {},
     "output_type": "display_data"
    }
   ],
   "source": [
    "df_plot = pd.DataFrame([sum_amex])\n",
    "df_plot.columns = ['Amex']\n",
    "\n",
    "df_plot.plot.bar(figsize=(13,8))\n",
    "plt.legend(loc=2)\n",
    "plt.ylabel('Sum $')\n",
    "plt.show()"
   ]
  },
  {
   "cell_type": "markdown",
   "metadata": {},
   "source": [
    "# Viikko 2\n",
    "## Osallistuminen ja aineisto\n",
    "Osallistuin luentoon sekä viikkoharjoitukseen. \n",
    "\n",
    "## Luennon keskeiset asiat\n",
    "Toisen viikon luennolla aihealue koski datatieteiden prosesseja sekä tiedon keräämistä. Datatieteet prosessina koostuu datan keräämisestä, sen esikäsittelystä eli sivoomamisesta, aineiston analysoinnista ja näiden tulosten välittäminen muodossa, jossa ne tarjoavat parasta mahdollista ymmärrystä.\n",
    "\n",
    "Kahteen ensimmäiseen näistä vaiheista kuluu tyypillisesti noin 80% ajasta. Dataa voidaan kerätä erilaisten rajapintojen ohjelmoitavien rajapintojen kautta eli APIen tai suoraan scrapeta jonkin sivun koodista.\n",
    "\n",
    "Tiedon tyyppi riippuu paljon siitä, onko kyseessä liiketoimintatiedon hallintaan liittyviä toimintoja vai datatieteisiin. Liiketoimintatiedon hallinnassa tyypillisesti puhtaan ETL-prosessista (extract, transfrom, load), jossa tähdätään kehittämään tietovarasto, jossa pääasiassa on liiketoimintaan liittyvää Master dataa. Master Datan tunnuspiirteitä ovat sen laadukas muoto, helppo sovellettavuus ja se on yleensä pitkältä ajanjaksolta. Sitä käytetään pääasiassa organisaation toiminnan ohjaamiseen.\n",
    "\n",
    "Datatieteissä on taas tyypillisesti kyse DAD-prosessista (Discover/Access/Distill), jossa tiedon pitkäaikaisuus ei niinkään kiinnosta vaan prosessi on hyvin nopea lähtien ajankohtaisesta tiedosta, nopeasta analyysistä ja sen tuloksista.\n",
    "\n",
    "Luennolla puhuttiin myös data analytiikan liiketoiminta relevanssista. Onkin osoitettu, että data-analyytikan avulla kyetään parantamaan yrityksen suorituskykyä. \n",
    "\n",
    "Ryömiät ja raapiat tarjoavat mahdollisuuden päästä käymään läpi verkkosivuja, jolloin niiltä on mahdollista kerätä dataa. Niilel annetaan yleensä lähtöpiste, jonka jälkeen ne etenevät hyperlinkkien kautta eteenpäin lisäämällä nämä hakujonoon.\n",
    "\n",
    "Datan hallinta oli viimeinen luennon aihe. Kyseessä on prosessi, jossa raaka-data muunnetaan muotoon, jossa sitä voidaan hyödyntää. Tyypillisesti pythonilla tähän käytetään Pandas työkalua.\n",
    "\n",
    "## 5 oivallusta ja tärkeintä oppimaa asiaa\n",
    "1. Raapiat ja APIt ovat erittäin tehokkaita datan keräämiseen\n",
    "    - työläs käsinkeräys voidaan tehdä tehokkaammin hyödyntämällä automaattista tiedonkeräystä\n",
    "2. Ryömiät ja raapiat vanhenevat, sillä verkkosivut saattavat muuttua\n",
    "    - esimerkiksi luokkien nimiä muutetaan\n",
    "3. On tärkeätä huomioida tiedon keräyksen eettisyys\n",
    "4. Ruudun raavinta vaikuttaa erittäin vaikealta, mikäli ei ymmärrä aidosti, mitä tapahtuu\n",
    "\n",
    "\n",
    "## 1-3 kehityskohdetta tai flippausvinkkiä luentoviikolle\n",
    "1. Eri raavinta menetelmistä voisi olla demoja tarjolla kurssin githubissa"
   ]
  },
  {
   "cell_type": "markdown",
   "metadata": {},
   "source": [
    "## Demo"
   ]
  },
  {
   "cell_type": "code",
   "execution_count": 14,
   "metadata": {},
   "outputs": [
    {
     "name": "stdout",
     "output_type": "stream",
     "text": [
      "C:\\Users\\arttu\\Documents\\TTY\\Johdanto datatieteisiin\\JoDa\\iltalehti_scraper.py already exists\n"
     ]
    }
   ],
   "source": [
    "import scrapy\n",
    "!scrapy genspider iltalehti_scraper iltalehti.fi"
   ]
  },
  {
   "cell_type": "code",
   "execution_count": 15,
   "metadata": {},
   "outputs": [],
   "source": [
    "import scrapy\n",
    "\n",
    "\n",
    "class IltalehtiScraperSpider(scrapy.Spider):\n",
    "    name = 'iltalehti_scraper'\n",
    "    allowed_domains = ['iltalehti.fi']\n",
    "    start_urls = ['https://iltalehti.fi/']\n",
    "\n",
    "    def parse(self, response):\n",
    "        title_texts = response.css('.front-title.a-title-font::text')\n",
    "        for title in title_texts:\n",
    "            yield {'title': title.extract()}     "
   ]
  },
  {
   "cell_type": "code",
   "execution_count": null,
   "metadata": {},
   "outputs": [],
   "source": [
    "import scrapy\n",
    "!scrapy runspider iltalehti_scraper.py -o iltalehti.json"
   ]
  },
  {
   "cell_type": "code",
   "execution_count": 2,
   "metadata": {},
   "outputs": [],
   "source": [
    "import simplejson as json\n",
    "import pandas as pd"
   ]
  },
  {
   "cell_type": "code",
   "execution_count": 6,
   "metadata": {},
   "outputs": [],
   "source": [
    "ildf = pd.read_json('iltalehti.json')"
   ]
  },
  {
   "cell_type": "code",
   "execution_count": 7,
   "metadata": {},
   "outputs": [
    {
     "data": {
      "text/html": [
       "<div>\n",
       "<style scoped>\n",
       "    .dataframe tbody tr th:only-of-type {\n",
       "        vertical-align: middle;\n",
       "    }\n",
       "\n",
       "    .dataframe tbody tr th {\n",
       "        vertical-align: top;\n",
       "    }\n",
       "\n",
       "    .dataframe thead th {\n",
       "        text-align: right;\n",
       "    }\n",
       "</style>\n",
       "<table border=\"1\" class=\"dataframe\">\n",
       "  <thead>\n",
       "    <tr style=\"text-align: right;\">\n",
       "      <th></th>\n",
       "      <th>title</th>\n",
       "    </tr>\n",
       "  </thead>\n",
       "  <tbody>\n",
       "    <tr>\n",
       "      <th>0</th>\n",
       "      <td>VTV:n Yli-Viikari kiistää rikokset ja syyttää ...</td>\n",
       "    </tr>\n",
       "    <tr>\n",
       "      <th>1</th>\n",
       "      <td>Muistatko vielä kaikki käänteet? Näin VTV-sopp...</td>\n",
       "    </tr>\n",
       "    <tr>\n",
       "      <th>2</th>\n",
       "      <td>Näistä rikoksista Yli-Viikaria epäillään – tau...</td>\n",
       "    </tr>\n",
       "    <tr>\n",
       "      <th>3</th>\n",
       "      <td>Orpo haluaa rokotepassit, joilla pääsisi ravin...</td>\n",
       "    </tr>\n",
       "    <tr>\n",
       "      <th>4</th>\n",
       "      <td>Pääministerin liikkumis­rajoitus­leka vaihtui ...</td>\n",
       "    </tr>\n",
       "    <tr>\n",
       "      <th>...</th>\n",
       "      <td>...</td>\n",
       "    </tr>\n",
       "    <tr>\n",
       "      <th>56</th>\n",
       "      <td>Niko Ranta-aholle 11 vuotta vankeutta – he kai...</td>\n",
       "    </tr>\n",
       "    <tr>\n",
       "      <th>57</th>\n",
       "      <td>Tällainen oli Ranta-ahon Katiska-organi­saatio...</td>\n",
       "    </tr>\n",
       "    <tr>\n",
       "      <th>58</th>\n",
       "      <td>Erika Vikman kiemurtelee punaisessa latexissa ...</td>\n",
       "    </tr>\n",
       "    <tr>\n",
       "      <th>59</th>\n",
       "      <td>Dokumentti: Maritsan, 26, romanihame tuo mukan...</td>\n",
       "    </tr>\n",
       "    <tr>\n",
       "      <th>60</th>\n",
       "      <td>Ainoana lainapalveluna Suomessa: Maksuton lisä...</td>\n",
       "    </tr>\n",
       "  </tbody>\n",
       "</table>\n",
       "<p>61 rows × 1 columns</p>\n",
       "</div>"
      ],
      "text/plain": [
       "                                                title\n",
       "0   VTV:n Yli-Viikari kiistää rikokset ja syyttää ...\n",
       "1   Muistatko vielä kaikki käänteet? Näin VTV-sopp...\n",
       "2   Näistä rikoksista Yli-Viikaria epäillään – tau...\n",
       "3   Orpo haluaa rokotepassit, joilla pääsisi ravin...\n",
       "4   Pääministerin liikkumis­rajoitus­leka vaihtui ...\n",
       "..                                                ...\n",
       "56  Niko Ranta-aholle 11 vuotta vankeutta – he kai...\n",
       "57  Tällainen oli Ranta-ahon Katiska-organi­saatio...\n",
       "58  Erika Vikman kiemurtelee punaisessa latexissa ...\n",
       "59  Dokumentti: Maritsan, 26, romanihame tuo mukan...\n",
       "60  Ainoana lainapalveluna Suomessa: Maksuton lisä...\n",
       "\n",
       "[61 rows x 1 columns]"
      ]
     },
     "execution_count": 7,
     "metadata": {},
     "output_type": "execute_result"
    }
   ],
   "source": [
    "ildf"
   ]
  },
  {
   "cell_type": "markdown",
   "metadata": {},
   "source": [
    "# Viikko 3\n",
    "\n",
    "## Osallistuminen\n",
    "\n",
    "Osallistuin sekä luennolle että viikkoharjoitukseen\n",
    "Ite wiki (n.d.) Koneoppiminen. saatavissa:https://www.itewiki.fi/opas/koneoppiminen/\n",
    "https://github.com/nikicc/twitter-emotion-recognition\n",
    "Helsingin yliopisto (n.d.). Koneoppimisen lajit. Elements of AI. Saatavissa: https://course.elementsofai.com/fi/4/1\n",
    "Colnerič, N. & Demšar, J. (2018). Emotion Recognition on Twitter: Comparative Study and Training a Unison Model. Saatavissa: https://ieeexplore.ieee.org/document/8295234\n",
    "Saxena, S. (2019) Mathematics behind Machine Learning Learning - The Core Concepts you Need to Know. Analytics Vidhya. Saatavissa: https://www.analyticsvidhya.com/blog/2019/10/mathematics-behind-machine-learning/#:~:text=the%20intuitive%20way.-,Linear%20Algebra%20for%20Machine%20Learning,industry%20in%20the%20coming%20years.\n",
    "\n",
    "## Luennon keskeiset asiat\n",
    "\n",
    "Luento keskittyi koneoppimiseen. Koneoppiminen luokitellaan tekoälyn alaryhmäksi (Ite wiki, n.d.), jonka tavoitteena on siirtää esimerkiksi rutiinitoimintoja ihmiseltä koneelle. Koneoppiminen voidaan jakaa neljään eri alaluokkaan, joita ovat ohjattu, ohjaamaton, puoliohjattu ja vahvistettuoppiminen. \n",
    "\n",
    "Ohjatussa koneoppimisessa data jaetaan kahteen osaan: opetusdata ja testidata. Opetusdata on raaka-dataa, josta erotellaan piirteet. Kun piirteet on eroteltu, ne lisätään piirrematriisiin. Piirre matrississa sarakkeet sisältävät piirteet ja rivit sisältävät siis datan näistä piirteistä. Opetus vaiheessa taas kerrotaan mitä piirrettä halutaan ennustaa ja minkä perusteella sitä halutaan ennustaa.\n",
    "\n",
    "Ohjaamattomassa oppimisessa erotus on taas, että koneelle ei anneta oikeata vastauksia, vaan se etsii datasta säännömukaisuuksia. Näitä säännömukaisuuksia voivat olla esimerkiksi samankaltaisten tapauksien ryppäät (clusters) (Helsingin yliopisto n.d.)\n",
    "\n",
    "Puoliohjattu koneoppinen on taas näiden kahden edellä mainitun yhdistelmää, joka onkin siitä hyvä esimerkki, että todellisessa käytössä useimmiten sovelletaan eri menetelmiä toistensa kanssa (Helsingin yliopisto n.d.).\n",
    "\n",
    "Vahvistusoppiminen on taas usein käytössä esimerkiksi peleissä sekä itseajavissa autoissa. Tässä oppiminen tapahtuu tavallaan viiveellä, sillä oikean ja väärän ratkaisun toteaminen vahvistetaan vasta sen jälkeen kun ratkaisu on yleensä tehty ja mihin lopputulokseen se on johtanut. (Helsingin yliopisto n.d.)\n",
    "\n",
    "Luennolla käsiteltiin lisäksi tarkemmin mitä pirteet ja niiden suunnittelu on. Luennolla esitetty esimerkki piirteistä oli erittäin hyvä. Tässä esimerkissä piirteitä verrattiin diagnoosissa oireisiin, joidenka avulla oli mahdollista luokitella potilaan terveydentila.\n",
    "\n",
    "Lisäksi käytiin läpi luonnollisen kielen analyysi eli NLP (Natural Language Processing). Tässä menetelmässä voidaan tehdä esimerkiksi sentimentaalinen analyysi, eli luokitellaan sanoja, lauseita tai tekstejä sen mukaan, mikä niiden sävy on.\n",
    "\n",
    "NLP:seen liittyen, tein sattumalta samaanaikaan tämän kurssin kanssa Tutkimusmetodologian sosiaalisen median analyysin Twitter datasta. Tässä tuli käytettyä Colnerič & Demšar (2018) githubissa jakamaa tunnetila-analyysi työkalua pythonilla, jonka avulla saatiin luokiteltua twiitit 6 eri tunnetilaan. Käytän tätä samaa ohjelmaa viikon 2 iltalehti otsikoiden luokittelussa tämän viikon demo-osiossa.\n",
    "\n",
    "## 5 oivallusta ja tärkeintä oppimaa asiaa\n",
    "\n",
    "1. Käytännön koneoppimismallia kokeilleissani havaitsin, että koneen laskentatehon merkitys kasvaa erittäin suureksi, jotta vältytään pitkältä odottelulta.\n",
    "    - Esimerkiksi ajaessani tämän viikon demoa 3300 yksilöllisellä twiitillä, meni sen suorittamisessa noin 6 tuntia kannettavalla tietokoneella\n",
    "2. NLP on erittäin tehokas tapa käsitellä isoja esimerkiksi isoja tekstimääriä\n",
    "    - Koneella menee vain murto-osa ajasta, joka ihmisellä menisi luokitteluun\n",
    "    - Luokittelu on myös objektiivisempaa\n",
    "    - Ongelmana on sarkasmin tunnistaminen, sillä se voidaan kätkeä sävyltään positiiviseen viestiin (Colnerič & Demšar 2018)\n",
    "3. Koneoppimisratkaisuiden soveltaminen itse on yllättävän helppoa, mikäli omaa edes hieman ohjelmointi osaamista\n",
    "    - Valmiita kirjastoja lukuisia pythonille\n",
    "4. Koneoppimisen ja datatieteiden väliset matemaattiset erot (Saxena 2019)\n",
    "    - Datatieteissä matematiikka painottuu tilastotieteisiin sekä todennäköisyyslaskentaan\n",
    "    - Koneoppimisessa keskiössä ovat monimuuttujalaskenta sekä lineaarialgebra"
   ]
  },
  {
   "cell_type": "markdown",
   "metadata": {},
   "source": [
    "## Demo\n",
    "\n",
    "Viikon 3 demossa on hyödynnetty viikon 2 demon tuottamaa iltalehti materiaalia. Tarkoituksena on luokitella iltalehti otsikot 6 eri tunneluokkaan: ilo, yllättyneisyys, pelko, viha, suru, inho. Kyseiseen luokitteluun käytetään Colnerič & Demšar (2018) githubissa jakamaa python ohjelmaa. Kyseinen ohjelma on toteutettu hyödyntämällä TensorFlow-alustaa sekä Kerasia luodessaan syväoppimisneuroverkostoa.  "
   ]
  },
  {
   "cell_type": "code",
   "execution_count": 8,
   "metadata": {},
   "outputs": [
    {
     "name": "stderr",
     "output_type": "stream",
     "text": [
      "Using Theano backend.\n",
      "WARNING (theano.configdefaults): g++ not available, if using conda: `conda install m2w64-toolchain`\n",
      "C:\\Users\\arttu\\anaconda3\\lib\\site-packages\\theano\\configdefaults.py:560: UserWarning: DeprecationWarning: there is no c++ compiler.This is deprecated and with Theano 0.11 a c++ compiler will be mandatory\n",
      "  warnings.warn(\"DeprecationWarning: there is no c++ compiler.\"\n",
      "WARNING (theano.configdefaults): g++ not detected ! Theano will be unable to execute optimized C-implementations (for both CPU and GPU) and will default to Python implementations. Performance will be severely degraded. To remove this warning, set Theano flags cxx to an empty string.\n",
      "WARNING (theano.tensor.blas): Using NumPy C-API based implementation for BLAS functions.\n"
     ]
    }
   ],
   "source": [
    "import os;\n",
    "os.environ['KERAS_BACKEND'] = 'theano'\n",
    "\n",
    "import pandas as pd\n",
    "\n",
    "from emotion_predictor import EmotionPredictor"
   ]
  },
  {
   "cell_type": "code",
   "execution_count": 9,
   "metadata": {},
   "outputs": [],
   "source": [
    "model = EmotionPredictor(classification='ekman', setting='mc', use_unison_model=True)"
   ]
  },
  {
   "cell_type": "code",
   "execution_count": 10,
   "metadata": {},
   "outputs": [],
   "source": [
    "listOfTitles = []\n",
    "for title in ildf.title:\n",
    "    listOfTitles.append(title)"
   ]
  },
  {
   "cell_type": "code",
   "execution_count": 11,
   "metadata": {},
   "outputs": [],
   "source": [
    "predictions = model.predict_classes(listOfTitles)"
   ]
  },
  {
   "cell_type": "code",
   "execution_count": 12,
   "metadata": {},
   "outputs": [
    {
     "data": {
      "text/html": [
       "<div>\n",
       "<style scoped>\n",
       "    .dataframe tbody tr th:only-of-type {\n",
       "        vertical-align: middle;\n",
       "    }\n",
       "\n",
       "    .dataframe tbody tr th {\n",
       "        vertical-align: top;\n",
       "    }\n",
       "\n",
       "    .dataframe thead th {\n",
       "        text-align: right;\n",
       "    }\n",
       "</style>\n",
       "<table border=\"1\" class=\"dataframe\">\n",
       "  <thead>\n",
       "    <tr style=\"text-align: right;\">\n",
       "      <th></th>\n",
       "      <th>Tweet</th>\n",
       "      <th>Emotion</th>\n",
       "    </tr>\n",
       "  </thead>\n",
       "  <tbody>\n",
       "    <tr>\n",
       "      <th>0</th>\n",
       "      <td>VTV:n Yli-Viikari kiistää rikokset ja syyttää ...</td>\n",
       "      <td>Surprise</td>\n",
       "    </tr>\n",
       "    <tr>\n",
       "      <th>1</th>\n",
       "      <td>Muistatko vielä kaikki käänteet? Näin VTV-sopp...</td>\n",
       "      <td>Joy</td>\n",
       "    </tr>\n",
       "    <tr>\n",
       "      <th>2</th>\n",
       "      <td>Näistä rikoksista Yli-Viikaria epäillään – tau...</td>\n",
       "      <td>Surprise</td>\n",
       "    </tr>\n",
       "    <tr>\n",
       "      <th>3</th>\n",
       "      <td>Orpo haluaa rokotepassit, joilla pääsisi ravin...</td>\n",
       "      <td>Joy</td>\n",
       "    </tr>\n",
       "    <tr>\n",
       "      <th>4</th>\n",
       "      <td>Pääministerin liikkumis­rajoitus­leka vaihtui ...</td>\n",
       "      <td>Joy</td>\n",
       "    </tr>\n",
       "    <tr>\n",
       "      <th>...</th>\n",
       "      <td>...</td>\n",
       "      <td>...</td>\n",
       "    </tr>\n",
       "    <tr>\n",
       "      <th>56</th>\n",
       "      <td>Niko Ranta-aholle 11 vuotta vankeutta – he kai...</td>\n",
       "      <td>Surprise</td>\n",
       "    </tr>\n",
       "    <tr>\n",
       "      <th>57</th>\n",
       "      <td>Tällainen oli Ranta-ahon Katiska-organi­saatio...</td>\n",
       "      <td>Joy</td>\n",
       "    </tr>\n",
       "    <tr>\n",
       "      <th>58</th>\n",
       "      <td>Erika Vikman kiemurtelee punaisessa latexissa ...</td>\n",
       "      <td>Surprise</td>\n",
       "    </tr>\n",
       "    <tr>\n",
       "      <th>59</th>\n",
       "      <td>Dokumentti: Maritsan, 26, romanihame tuo mukan...</td>\n",
       "      <td>Fear</td>\n",
       "    </tr>\n",
       "    <tr>\n",
       "      <th>60</th>\n",
       "      <td>Ainoana lainapalveluna Suomessa: Maksuton lisä...</td>\n",
       "      <td>Surprise</td>\n",
       "    </tr>\n",
       "  </tbody>\n",
       "</table>\n",
       "<p>61 rows × 2 columns</p>\n",
       "</div>"
      ],
      "text/plain": [
       "                                                Tweet   Emotion\n",
       "0   VTV:n Yli-Viikari kiistää rikokset ja syyttää ...  Surprise\n",
       "1   Muistatko vielä kaikki käänteet? Näin VTV-sopp...       Joy\n",
       "2   Näistä rikoksista Yli-Viikaria epäillään – tau...  Surprise\n",
       "3   Orpo haluaa rokotepassit, joilla pääsisi ravin...       Joy\n",
       "4   Pääministerin liikkumis­rajoitus­leka vaihtui ...       Joy\n",
       "..                                                ...       ...\n",
       "56  Niko Ranta-aholle 11 vuotta vankeutta – he kai...  Surprise\n",
       "57  Tällainen oli Ranta-ahon Katiska-organi­saatio...       Joy\n",
       "58  Erika Vikman kiemurtelee punaisessa latexissa ...  Surprise\n",
       "59  Dokumentti: Maritsan, 26, romanihame tuo mukan...      Fear\n",
       "60  Ainoana lainapalveluna Suomessa: Maksuton lisä...  Surprise\n",
       "\n",
       "[61 rows x 2 columns]"
      ]
     },
     "execution_count": 12,
     "metadata": {},
     "output_type": "execute_result"
    }
   ],
   "source": [
    "predictions"
   ]
  },
  {
   "cell_type": "code",
   "execution_count": 13,
   "metadata": {},
   "outputs": [],
   "source": [
    "ilEmotiondf = predictions"
   ]
  },
  {
   "cell_type": "code",
   "execution_count": 19,
   "metadata": {},
   "outputs": [],
   "source": [
    "ilEmotiondf.to_json('IL_emotions.json')"
   ]
  },
  {
   "cell_type": "code",
   "execution_count": null,
   "metadata": {},
   "outputs": [],
   "source": []
  }
 ],
 "metadata": {
  "kernelspec": {
   "display_name": "Python 3",
   "language": "python",
   "name": "python3"
  },
  "language_info": {
   "codemirror_mode": {
    "name": "ipython",
    "version": 3
   },
   "file_extension": ".py",
   "mimetype": "text/x-python",
   "name": "python",
   "nbconvert_exporter": "python",
   "pygments_lexer": "ipython3",
   "version": "3.7.6"
  }
 },
 "nbformat": 4,
 "nbformat_minor": 4
}
