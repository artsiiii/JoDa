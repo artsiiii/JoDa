{
 "cells": [
  {
   "cell_type": "markdown",
   "metadata": {},
   "source": [
    "# Oppimispäiväkirja - Johdatus datatieteisiin\n",
    "\n",
    "## Luento 1\n",
    "\n",
    "Osallistuin ensimmäiseen luentoon (9.3.2021).\n",
    "[1] https://www.guru99.com/r-vs-python.html#:~:text=R%20is%20mainly%20used%20for,of%20course%2C%20the%20ideal%20solution.&text=Python%20is%20a%20general%2Dpurpose%20language%20with%20a%20readable%20syntax.\n",
    "\n",
    "### Keskeiset asiat\n",
    "Datatieteet määriteltiin koostuvan neljästä eri kokonaisuudesta eli liiketoimintaosaamisesta, ohjelmointi- ja tietokantaosaamisesta, tilastollisesta analyysistä sekä datalähtöisestä viestinnästä ja visualisoinnista. \n",
    "\n",
    "Data Scientist eli suomeksi tietojen tutkija tai datatieteilijä on datatieteiden alueella toimivan henkilön työnimike. Data Scientistin työssä vaaditaan ymmärrystä liiketoimminnasta eli substanssi osaamista alasta. Ilman tätä substanssiosaamista on vaikea ymmärtää mitä data tarkoittaa käytännössä ja näin ollen on vaikea luoda hyötyä liiketoiminnallisesta näkökulmasta. Tulee myös tiedostaa, mikä data on saatavilla ja mikä tästä datasta soveltuu tavoite tarkoituksiin.\n",
    "\n",
    "Tietotekninen osaaminen eli käytännössä ohjelmointi ja tietokanta osaaminen ovat välttämättömyyksiä, sillä tiedot täytyy kyetä keräämään, säilömään ja analysoimaan. Tyypillisimpä työkaluja tietojen analysoinnissa ovat R ja Python. \n",
    "\n",
    "R-kieli on nimenomaan käytössä tilasto-ohjelmissa, mutta nykyään suosiota nostaa ohjelmointikielenä Python, sillä se tarjoa mahdollisuuden kerätä tietoa ohjelmistorajapintojen (API) kautta. R:n toiminta rajoittuu paikallisten tietojen kanssa toimimiseen, jolloin se ei sovellu realiaikasen datan käsittelyyn yhtä hyvin. Python tarjoaa siis paremman ratkaisun mahdolliseti liiketoiminnallisesta näkökulmasta, kun taas R on käytössä akateemisessa ja tuotekehitykseen sopivassa ympäristössä. [1].\n",
    "\n",
    "Jotta data kyetään tuomaan käytäntöön, tulee Data Scientistilla olla hyvä kommunikaatio taidot. Tämä vaatii sitä, että kun tietoa esitetään, tulee kyetä herätämään päättävien henkilöiden mielenkiinto sekä nostaa esimerkiksi visualisaation avulla huomionarvoiset seikat esille.\n",
    "\n",
    "Nykyään tuotetaan järkyttävä määrä dataa, esimerkiksi vuoteen 2025 mennessä on arvioitu tuotetun datan määrän olevan 163 Zetabittiä. Osa datasta voi olla käytännössä aivan turhaa, mutta osassa voi piillä esimerkiksi jotakin olennaista liiketoiminnan näkökulmasta katsottuna. Tämän datan läpikäyntiin voidaan käyttää koneoppimista, erityisesti neuroverkkoja. Tämän avulla voidaan luoda kartoittavaa ja kuvailevaa dataa tästä valtavasta määrästä ja tunnistaa tilastollisia korrelaatioita.\n",
    "\n",
    "### 5 oivallusta tai tärkeintä oppimaa asiaa\n",
    "\n",
    "\n",
    "### 1-3 kehityskohdetta tai flippausvinkkiä luentoviikolle\n",
    "\n",
    "### Demo\n"
   ]
  }
 ],
 "metadata": {
  "kernelspec": {
   "display_name": "Python 3",
   "language": "python",
   "name": "python3"
  },
  "language_info": {
   "codemirror_mode": {
    "name": "ipython",
    "version": 3
   },
   "file_extension": ".py",
   "mimetype": "text/x-python",
   "name": "python",
   "nbconvert_exporter": "python",
   "pygments_lexer": "ipython3",
   "version": "3.7.6"
  }
 },
 "nbformat": 4,
 "nbformat_minor": 4
}
